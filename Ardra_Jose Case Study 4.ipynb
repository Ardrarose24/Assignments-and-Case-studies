{
 "cells": [
  {
   "cell_type": "code",
   "execution_count": 1,
   "id": "909f1c72",
   "metadata": {},
   "outputs": [],
   "source": [
    "import numpy as np\n",
    "import pandas as pd\n",
    "import pickle"
   ]
  },
  {
   "cell_type": "code",
   "execution_count": 2,
   "id": "bc18ccb4",
   "metadata": {},
   "outputs": [],
   "source": [
    "df = pd.read_excel(r\"C:\\Users\\ALFRED\\Downloads\\iris .xls\")"
   ]
  },
  {
   "cell_type": "code",
   "execution_count": 3,
   "id": "02523a84",
   "metadata": {},
   "outputs": [
    {
     "name": "stderr",
     "output_type": "stream",
     "text": [
      "C:\\Users\\ALFRED\\AppData\\Local\\Temp\\ipykernel_592\\539000399.py:1: DeprecationWarning: the `interpolation=` argument to percentile was renamed to `method=`, which has additional options.\n",
      "Users of the modes 'nearest', 'lower', 'higher', or 'midpoint' are encouraged to review the method they used. (Deprecated NumPy 1.22)\n",
      "  Q1 = np.percentile(df['SW'], 25, interpolation = 'midpoint')\n",
      "C:\\Users\\ALFRED\\AppData\\Local\\Temp\\ipykernel_592\\539000399.py:2: DeprecationWarning: the `interpolation=` argument to percentile was renamed to `method=`, which has additional options.\n",
      "Users of the modes 'nearest', 'lower', 'higher', or 'midpoint' are encouraged to review the method they used. (Deprecated NumPy 1.22)\n",
      "  Q2 = np.percentile(df['SW'], 50, interpolation = 'midpoint')\n",
      "C:\\Users\\ALFRED\\AppData\\Local\\Temp\\ipykernel_592\\539000399.py:3: DeprecationWarning: the `interpolation=` argument to percentile was renamed to `method=`, which has additional options.\n",
      "Users of the modes 'nearest', 'lower', 'higher', or 'midpoint' are encouraged to review the method they used. (Deprecated NumPy 1.22)\n",
      "  Q3 = np.percentile(df['SW'], 75, interpolation = 'midpoint')\n"
     ]
    }
   ],
   "source": [
    "Q1 = np.percentile(df['SW'], 25, interpolation = 'midpoint')\n",
    "Q2 = np.percentile(df['SW'], 50, interpolation = 'midpoint')\n",
    "Q3 = np.percentile(df['SW'], 75, interpolation = 'midpoint')\n",
    "\n",
    "IQR = Q3 - Q1\n",
    "\n",
    "up_lim = Q3+1.5*IQR\n",
    "low_lim = Q1 - 1.5*IQR"
   ]
  },
  {
   "cell_type": "code",
   "execution_count": 4,
   "id": "f1f2c0f8",
   "metadata": {},
   "outputs": [],
   "source": [
    "outliers = []\n",
    "for x in df['SW']:\n",
    "    if(x>up_lim) or (x<low_lim):\n",
    "        outliers.append(x)"
   ]
  },
  {
   "cell_type": "code",
   "execution_count": 5,
   "id": "c2a05933",
   "metadata": {},
   "outputs": [],
   "source": [
    "df.drop([15, 32, 33, 60], inplace = True)"
   ]
  },
  {
   "cell_type": "code",
   "execution_count": 6,
   "id": "a57d7b09",
   "metadata": {},
   "outputs": [],
   "source": [
    "x = df.drop(['Classification'], axis = 1)\n",
    "y = df['Classification']"
   ]
  },
  {
   "cell_type": "code",
   "execution_count": 7,
   "id": "99586e61",
   "metadata": {},
   "outputs": [],
   "source": [
    "from sklearn.model_selection import train_test_split\n",
    "x_train,x_test,y_train,y_test = train_test_split(x,y,test_size = 0.25,random_state = 100)"
   ]
  },
  {
   "cell_type": "code",
   "execution_count": 8,
   "id": "88abc051",
   "metadata": {},
   "outputs": [],
   "source": [
    "from sklearn.neighbors import KNeighborsClassifier\n",
    "metric = []\n",
    "neighbors = np.arange(3,15)\n",
    "\n",
    "for k in neighbors:\n",
    "    classifier = KNeighborsClassifier(n_neighbors = 4, metric = 'minkowski',p=2)\n",
    "    classifier.fit(x_train,y_train)\n",
    "    y_pred_knn = classifier.predict(x_test)"
   ]
  },
  {
   "cell_type": "code",
   "execution_count": 9,
   "id": "b94872a6",
   "metadata": {},
   "outputs": [],
   "source": [
    "from sklearn.metrics import confusion_matrix,accuracy_score"
   ]
  },
  {
   "cell_type": "code",
   "execution_count": 10,
   "id": "422a492a",
   "metadata": {},
   "outputs": [
    {
     "name": "stdout",
     "output_type": "stream",
     "text": [
      "Accuracy =  1.0\n"
     ]
    }
   ],
   "source": [
    "print('Accuracy = ',accuracy_score(y_test,y_pred_knn))"
   ]
  },
  {
   "cell_type": "code",
   "execution_count": 11,
   "id": "055e2b64",
   "metadata": {},
   "outputs": [],
   "source": [
    "pickle.dump(classifier,open('model.pkl','wb'))"
   ]
  }
 ],
 "metadata": {
  "kernelspec": {
   "display_name": "Python 3 (ipykernel)",
   "language": "python",
   "name": "python3"
  },
  "language_info": {
   "codemirror_mode": {
    "name": "ipython",
    "version": 3
   },
   "file_extension": ".py",
   "mimetype": "text/x-python",
   "name": "python",
   "nbconvert_exporter": "python",
   "pygments_lexer": "ipython3",
   "version": "3.10.9"
  }
 },
 "nbformat": 4,
 "nbformat_minor": 5
}
