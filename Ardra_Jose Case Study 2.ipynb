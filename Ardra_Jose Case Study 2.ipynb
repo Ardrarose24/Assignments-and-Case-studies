{
 "cells": [
  {
   "cell_type": "markdown",
   "id": "eb73577d",
   "metadata": {},
   "source": [
    "##  Case Study on Regression"
   ]
  },
  {
   "cell_type": "markdown",
   "id": "95700044",
   "metadata": {},
   "source": [
    "The given dataset contains price of second-hand Hyundai grand i10 car with\n",
    "respect to year of making. Find the best linear relationship between year and\n",
    "price. Can you predict the possible price of a 2022 model second-hand grand i10?\n",
    "Please learn about lasso regression and create a model along with linear\n",
    "regression. Find out which one is performing better.\n"
   ]
  },
  {
   "cell_type": "markdown",
   "id": "c6dc17e1",
   "metadata": {},
   "source": [
    "Import the necessary libraries."
   ]
  },
  {
   "cell_type": "code",
   "execution_count": 1,
   "id": "cdd78783",
   "metadata": {},
   "outputs": [],
   "source": [
    "import numpy as np\n",
    "import pandas as pd\n",
    "import matplotlib.pyplot as plt\n",
    "import seaborn as sns"
   ]
  },
  {
   "cell_type": "markdown",
   "id": "bd6aa0ca",
   "metadata": {},
   "source": [
    "Read the given dataset into the notebook."
   ]
  },
  {
   "cell_type": "code",
   "execution_count": 2,
   "id": "3d0148ba",
   "metadata": {},
   "outputs": [],
   "source": [
    "df = pd.read_csv(r\"C:\\Users\\ALFRED\\Downloads\\car_age_price.csv\")"
   ]
  },
  {
   "cell_type": "markdown",
   "id": "1e4ff2e2",
   "metadata": {},
   "source": [
    "Find the necessary details about the dataset."
   ]
  },
  {
   "cell_type": "code",
   "execution_count": 3,
   "id": "ac2d6ae6",
   "metadata": {},
   "outputs": [
    {
     "data": {
      "text/html": [
       "<div>\n",
       "<style scoped>\n",
       "    .dataframe tbody tr th:only-of-type {\n",
       "        vertical-align: middle;\n",
       "    }\n",
       "\n",
       "    .dataframe tbody tr th {\n",
       "        vertical-align: top;\n",
       "    }\n",
       "\n",
       "    .dataframe thead th {\n",
       "        text-align: right;\n",
       "    }\n",
       "</style>\n",
       "<table border=\"1\" class=\"dataframe\">\n",
       "  <thead>\n",
       "    <tr style=\"text-align: right;\">\n",
       "      <th></th>\n",
       "      <th>Year</th>\n",
       "      <th>Price</th>\n",
       "    </tr>\n",
       "  </thead>\n",
       "  <tbody>\n",
       "    <tr>\n",
       "      <th>0</th>\n",
       "      <td>2018</td>\n",
       "      <td>465000</td>\n",
       "    </tr>\n",
       "    <tr>\n",
       "      <th>1</th>\n",
       "      <td>2019</td>\n",
       "      <td>755000</td>\n",
       "    </tr>\n",
       "    <tr>\n",
       "      <th>2</th>\n",
       "      <td>2019</td>\n",
       "      <td>700000</td>\n",
       "    </tr>\n",
       "    <tr>\n",
       "      <th>3</th>\n",
       "      <td>2018</td>\n",
       "      <td>465000</td>\n",
       "    </tr>\n",
       "    <tr>\n",
       "      <th>4</th>\n",
       "      <td>2018</td>\n",
       "      <td>465000</td>\n",
       "    </tr>\n",
       "  </tbody>\n",
       "</table>\n",
       "</div>"
      ],
      "text/plain": [
       "   Year   Price\n",
       "0  2018  465000\n",
       "1  2019  755000\n",
       "2  2019  700000\n",
       "3  2018  465000\n",
       "4  2018  465000"
      ]
     },
     "execution_count": 3,
     "metadata": {},
     "output_type": "execute_result"
    }
   ],
   "source": [
    "df.head()"
   ]
  },
  {
   "cell_type": "code",
   "execution_count": 4,
   "id": "f7d291f4",
   "metadata": {},
   "outputs": [
    {
     "name": "stdout",
     "output_type": "stream",
     "text": [
      "<class 'pandas.core.frame.DataFrame'>\n",
      "RangeIndex: 112 entries, 0 to 111\n",
      "Data columns (total 2 columns):\n",
      " #   Column  Non-Null Count  Dtype\n",
      "---  ------  --------------  -----\n",
      " 0   Year    112 non-null    int64\n",
      " 1   Price   112 non-null    int64\n",
      "dtypes: int64(2)\n",
      "memory usage: 1.9 KB\n"
     ]
    }
   ],
   "source": [
    "df.info()"
   ]
  },
  {
   "cell_type": "code",
   "execution_count": 5,
   "id": "83f32c90",
   "metadata": {},
   "outputs": [
    {
     "data": {
      "text/html": [
       "<div>\n",
       "<style scoped>\n",
       "    .dataframe tbody tr th:only-of-type {\n",
       "        vertical-align: middle;\n",
       "    }\n",
       "\n",
       "    .dataframe tbody tr th {\n",
       "        vertical-align: top;\n",
       "    }\n",
       "\n",
       "    .dataframe thead th {\n",
       "        text-align: right;\n",
       "    }\n",
       "</style>\n",
       "<table border=\"1\" class=\"dataframe\">\n",
       "  <thead>\n",
       "    <tr style=\"text-align: right;\">\n",
       "      <th></th>\n",
       "      <th>Year</th>\n",
       "      <th>Price</th>\n",
       "    </tr>\n",
       "  </thead>\n",
       "  <tbody>\n",
       "    <tr>\n",
       "      <th>count</th>\n",
       "      <td>112.000000</td>\n",
       "      <td>112.000000</td>\n",
       "    </tr>\n",
       "    <tr>\n",
       "      <th>mean</th>\n",
       "      <td>2016.669643</td>\n",
       "      <td>483866.044643</td>\n",
       "    </tr>\n",
       "    <tr>\n",
       "      <th>std</th>\n",
       "      <td>1.629616</td>\n",
       "      <td>91217.450533</td>\n",
       "    </tr>\n",
       "    <tr>\n",
       "      <th>min</th>\n",
       "      <td>2013.000000</td>\n",
       "      <td>300000.000000</td>\n",
       "    </tr>\n",
       "    <tr>\n",
       "      <th>25%</th>\n",
       "      <td>2015.000000</td>\n",
       "      <td>423750.000000</td>\n",
       "    </tr>\n",
       "    <tr>\n",
       "      <th>50%</th>\n",
       "      <td>2017.000000</td>\n",
       "      <td>500000.000000</td>\n",
       "    </tr>\n",
       "    <tr>\n",
       "      <th>75%</th>\n",
       "      <td>2017.000000</td>\n",
       "      <td>550000.000000</td>\n",
       "    </tr>\n",
       "    <tr>\n",
       "      <th>max</th>\n",
       "      <td>2020.000000</td>\n",
       "      <td>755000.000000</td>\n",
       "    </tr>\n",
       "  </tbody>\n",
       "</table>\n",
       "</div>"
      ],
      "text/plain": [
       "              Year          Price\n",
       "count   112.000000     112.000000\n",
       "mean   2016.669643  483866.044643\n",
       "std       1.629616   91217.450533\n",
       "min    2013.000000  300000.000000\n",
       "25%    2015.000000  423750.000000\n",
       "50%    2017.000000  500000.000000\n",
       "75%    2017.000000  550000.000000\n",
       "max    2020.000000  755000.000000"
      ]
     },
     "execution_count": 5,
     "metadata": {},
     "output_type": "execute_result"
    }
   ],
   "source": [
    "df.describe()"
   ]
  },
  {
   "cell_type": "code",
   "execution_count": 6,
   "id": "3868bb35",
   "metadata": {},
   "outputs": [
    {
     "data": {
      "text/plain": [
       "Year     0\n",
       "Price    0\n",
       "dtype: int64"
      ]
     },
     "execution_count": 6,
     "metadata": {},
     "output_type": "execute_result"
    }
   ],
   "source": [
    "df.isna().sum()   # there are no missing values."
   ]
  },
  {
   "cell_type": "code",
   "execution_count": 7,
   "id": "18160fc9",
   "metadata": {},
   "outputs": [
    {
     "data": {
      "text/plain": [
       "Index(['Year', 'Price'], dtype='object')"
      ]
     },
     "execution_count": 7,
     "metadata": {},
     "output_type": "execute_result"
    }
   ],
   "source": [
    "df.columns"
   ]
  },
  {
   "cell_type": "markdown",
   "id": "a352e28b",
   "metadata": {},
   "source": [
    "Look for outliers in the dataset."
   ]
  },
  {
   "cell_type": "code",
   "execution_count": 8,
   "id": "d3145b2c",
   "metadata": {},
   "outputs": [
    {
     "data": {
      "image/png": "[encoded data removed]",
      "text/plain": [
       "<Figure size 640x480 with 1 Axes>"
      ]
     },
     "metadata": {},
     "output_type": "display_data"
    }
   ],
   "source": [
    "plt.boxplot(df['Year'])\n",
    "plt.show()                  # Year column has no outliers."
   ]
  },
  {
   "cell_type": "code",
   "execution_count": 9,
   "id": "6f6c0fd7",
   "metadata": {},
   "outputs": [
    {
     "data": {
      "image/png": "[encoded data removed]",
      "text/plain": [
       "<Figure size 640x480 with 1 Axes>"
      ]
     },
     "metadata": {},
     "output_type": "display_data"
    }
   ],
   "source": [
    "plt.boxplot(df[ 'Price'])\n",
    "plt.show()                     # Price column has an outlier."
   ]
  },
  {
   "cell_type": "code",
   "execution_count": 10,
   "id": "4a84119c",
   "metadata": {},
   "outputs": [
    {
     "data": {
      "text/plain": [
       "Year\n",
       "2017    47\n",
       "2015    22\n",
       "2019    12\n",
       "2018    11\n",
       "2014     6\n",
       "2016     6\n",
       "2013     4\n",
       "2020     4\n",
       "dtype: int64"
      ]
     },
     "execution_count": 10,
     "metadata": {},
     "output_type": "execute_result"
    }
   ],
   "source": [
    "df.value_counts('Year')"
   ]
  },
  {
   "cell_type": "code",
   "execution_count": 11,
   "id": "45562643",
   "metadata": {},
   "outputs": [],
   "source": [
    "df.drop([1], inplace = True)"
   ]
  },
  {
   "cell_type": "markdown",
   "id": "ae188ad2",
   "metadata": {},
   "source": [
    "Here there is only a single outlier that is above 700000 and it is in the index 1. We can find it by just looking through the data. It occurs in the year 2019 and even if we remove it, there are 11 more price values in the year 2019. So, we just drop the index 1."
   ]
  },
  {
   "cell_type": "code",
   "execution_count": 12,
   "id": "c92a8ce2",
   "metadata": {},
   "outputs": [
    {
     "data": {
      "image/png": "[encoded data removed]",
      "text/plain": [
       "<Figure size 640x480 with 1 Axes>"
      ]
     },
     "metadata": {},
     "output_type": "display_data"
    }
   ],
   "source": [
    "plt.boxplot(df[ 'Price'])\n",
    "plt.show()         # Outlier removed."
   ]
  },
  {
   "cell_type": "markdown",
   "id": "14bf56a2",
   "metadata": {},
   "source": [
    "Splitting the data set columns into independent variables and dependent variables."
   ]
  },
  {
   "cell_type": "code",
   "execution_count": 13,
   "id": "d967f720",
   "metadata": {},
   "outputs": [],
   "source": [
    "X = df['Year'].values.reshape(-1, 1) # Independent variable\n",
    "y = df[ 'Price']    #Dependent variable"
   ]
  },
  {
   "cell_type": "markdown",
   "id": "e6f20f2d",
   "metadata": {},
   "source": [
    "We now do linear and lasso regression on the dataset"
   ]
  },
  {
   "cell_type": "code",
   "execution_count": 14,
   "id": "c1192cbf",
   "metadata": {},
   "outputs": [],
   "source": [
    "from sklearn.model_selection import train_test_split"
   ]
  },
  {
   "cell_type": "code",
   "execution_count": 15,
   "id": "fefee72f",
   "metadata": {},
   "outputs": [],
   "source": [
    "X_train, X_test, y_train, y_test = train_test_split(X, y, test_size = 0.25, random_state = 3)"
   ]
  },
  {
   "cell_type": "code",
   "execution_count": 16,
   "id": "fd5c9590",
   "metadata": {},
   "outputs": [],
   "source": [
    "from sklearn.linear_model import LinearRegression "
   ]
  },
  {
   "cell_type": "code",
   "execution_count": 17,
   "id": "219c1d4a",
   "metadata": {},
   "outputs": [],
   "source": [
    "lr = LinearRegression()\n",
    "lr.fit(X_train, y_train)\n",
    "y_pred = lr.predict(X_test)"
   ]
  },
  {
   "cell_type": "code",
   "execution_count": 18,
   "id": "303e74b7",
   "metadata": {},
   "outputs": [],
   "source": [
    "from sklearn.linear_model import Lasso"
   ]
  },
  {
   "cell_type": "code",
   "execution_count": 19,
   "id": "35ba98a5",
   "metadata": {},
   "outputs": [],
   "source": [
    "ls = Lasso(alpha = 0.1)\n",
    "ls.fit(X_train, y_train)\n",
    "y_pred1 = ls.predict(X_test)"
   ]
  },
  {
   "cell_type": "code",
   "execution_count": 20,
   "id": "66e9382a",
   "metadata": {},
   "outputs": [],
   "source": [
    "from sklearn.metrics import mean_squared_error , r2_score"
   ]
  },
  {
   "cell_type": "code",
   "execution_count": 21,
   "id": "aca378ec",
   "metadata": {},
   "outputs": [],
   "source": [
    "linear_regression_mse = mean_squared_error(y_test, y_pred)\n",
    "linear_regression_r2 = r2_score(y_test, y_pred)"
   ]
  },
  {
   "cell_type": "code",
   "execution_count": 22,
   "id": "0cb2c697",
   "metadata": {},
   "outputs": [],
   "source": [
    "lasso_regression_mse = mean_squared_error(y_test, y_pred1)\n",
    "lasso_regression_r2 = r2_score(y_test, y_pred1)"
   ]
  },
  {
   "cell_type": "code",
   "execution_count": 23,
   "id": "75959f48",
   "metadata": {},
   "outputs": [
    {
     "name": "stdout",
     "output_type": "stream",
     "text": [
      "Linear regression MSE: 2429380860.130084\n",
      "Lasso regression MSE : 2429381180.396382\n"
     ]
    }
   ],
   "source": [
    "print(\"Linear regression MSE:\", linear_regression_mse)\n",
    "print(\"Lasso regression MSE :\", lasso_regression_mse)"
   ]
  },
  {
   "cell_type": "code",
   "execution_count": 24,
   "id": "9c006f50",
   "metadata": {},
   "outputs": [
    {
     "name": "stdout",
     "output_type": "stream",
     "text": [
      "Linear regression r2: 0.6703929057122116\n",
      "Lasso regression r2 : 0.67039286225997\n"
     ]
    }
   ],
   "source": [
    "print(\"Linear regression r2:\", linear_regression_r2)\n",
    "print(\"Lasso regression r2 :\", lasso_regression_r2)"
   ]
  },
  {
   "cell_type": "markdown",
   "id": "f8d9c817",
   "metadata": {},
   "source": [
    "The MSE and r2 values for both linear and lasso regression donot show much difference. So it is not optimal to say that one is better than the other in this case."
   ]
  },
  {
   "cell_type": "code",
   "execution_count": 25,
   "id": "903d3db5",
   "metadata": {},
   "outputs": [],
   "source": [
    "prediction1 = lr.fit(X_train, y_train).predict([[2022]])"
   ]
  },
  {
   "cell_type": "code",
   "execution_count": 26,
   "id": "cd34d332",
   "metadata": {},
   "outputs": [],
   "source": [
    "prediction2 = ls.fit(X_train, y_train).predict([[2022]])"
   ]
  },
  {
   "cell_type": "code",
   "execution_count": 27,
   "id": "fc0c6742",
   "metadata": {},
   "outputs": [
    {
     "name": "stdout",
     "output_type": "stream",
     "text": [
      "Price prediction Linear: [703760.59230244]\n",
      "Price prediction Lasso : [703760.38027929]\n"
     ]
    }
   ],
   "source": [
    "print(\"Price prediction Linear:\", prediction1)\n",
    "print(\"Price prediction Lasso :\", prediction2)"
   ]
  },
  {
   "cell_type": "markdown",
   "id": "3e030cb3",
   "metadata": {},
   "source": [
    "For the year 2022 both linear and lasso regressions predict about 703760 as the price for the car."
   ]
  }
 ],
 "metadata": {
  "kernelspec": {
   "display_name": "Python 3 (ipykernel)",
   "language": "python",
   "name": "python3"
  },
  "language_info": {
   "codemirror_mode": {
    "name": "ipython",
    "version": 3
   },
   "file_extension": ".py",
   "mimetype": "text/x-python",
   "name": "python",
   "nbconvert_exporter": "python",
   "pygments_lexer": "ipython3",
   "version": "3.10.9"
  }
 },
 "nbformat": 4,
 "nbformat_minor": 5
}
